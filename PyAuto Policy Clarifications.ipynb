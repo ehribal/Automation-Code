{
 "cells": [
  {
   "cell_type": "code",
   "execution_count": 71,
   "id": "7881a181",
   "metadata": {},
   "outputs": [],
   "source": [
    "import numpy as np\n",
    "import pandas as pd\n",
    "import time\n",
    "import pyautogui\n",
    "import cv2\n",
    "from tkinter import Tk"
   ]
  },
  {
   "cell_type": "code",
   "execution_count": 65,
   "id": "5150054d",
   "metadata": {},
   "outputs": [],
   "source": [
    "#TEST for single order\n",
    "pyautogui.click(x) #Minimize\n",
    "time.sleep(2)\n",
    "pyautogui.click(114,513) #Search box\n",
    "pyautogui.write(\"19GNW225119NP\")\n",
    "time.sleep(1)\n",
    "pyautogui.click(216,544)#Search Button\n",
    "time.sleep(3)\n",
    "pyautogui.click(200,795,clicks=2,interval=.1)#clicking order\n",
    "pyautogui.moveTo(245,544)#somewhere else\n",
    "time.sleep(10)\n",
    "pyautogui.click(415,710)#Address box. Check if this is a sufficient failsafe.\n",
    "pyautogui.hotkey(\"ctrl\",\"a\")\n",
    "pyautogui.hotkey(\"ctrl\",\"c\")\n",
    "time.sleep(1)\n",
    "address = Tk().clipboard_get()\n",
    "pyautogui.click(207,484)#title drop down\n",
    "time.sleep(2)\n",
    "pyautogui.click(97,652)#policy schedule A\n",
    "time.sleep(5)\n",
    "dates = pyautogui.locateOnScreen(\"none1.png\",confidence=.7)#ironic, if not none, it will be none\n",
    "if dates == None:\n",
    "    pyautogui.click(98,77)#click on checklist\n",
    "    time.sleep(3)\n",
    "    pyautogui.moveTo(421,332)#go to window\n",
    "    time.sleep(1)\n",
    "    for i in range(1,50):\n",
    "        pyautogui.scroll(-150)\n",
    "        time.sleep(1)\n",
    "        req = pyautogui.locateCenterOnScreen(\"required1.png\",confidence=.7)#finding requirdes\n",
    "        if req == None:\n",
    "            pass\n",
    "        else:\n",
    "            pyautogui.click(req[0],req[1])\n",
    "            time.sleep(1)\n",
    "            pyautogui.click(1036,538)\n",
    "            time.sleep(1)\n",
    "            pyautogui.click(960,588)\n",
    "            time.sleep(2)\n",
    "            pyautogui.moveTo(421,332)\n",
    "    pyautogui.click(179,81)#click on requested\n",
    "    time.sleep(3)\n",
    "    pyautogui.moveTo(421,332)#go to window\n",
    "    time.sleep(1)\n",
    "    ##ADD A LOOP HERE\n",
    "else:\n",
    "    pass\n",
    "time.sleep(2)\n",
    "a,b = pyautogui.locateCenterOnScreen(\"ex1.png\",confidence=.6)\n",
    "pyautogui.moveTo(a,b)\n",
    "pyautogui.click()\n",
    "time.sleep(2)\n",
    "pyautogui.click(602,518)#saving changes\n",
    "\n",
    "pyautogui.click(761,512)#ignoring warnings"
   ]
  },
  {
   "cell_type": "code",
   "execution_count": 56,
   "id": "1d249417",
   "metadata": {},
   "outputs": [
    {
     "data": {
      "text/plain": [
       "336"
      ]
     },
     "execution_count": 56,
     "metadata": {},
     "output_type": "execute_result"
    }
   ],
   "source": [
    "req[1]"
   ]
  },
  {
   "cell_type": "code",
   "execution_count": 86,
   "id": "3cf91d8e",
   "metadata": {},
   "outputs": [
    {
     "data": {
      "text/plain": [
       "Point(x=243, y=514)"
      ]
     },
     "execution_count": 86,
     "metadata": {},
     "output_type": "execute_result"
    }
   ],
   "source": [
    "#Position Finder\n",
    "pyautogui.position()"
   ]
  },
  {
   "cell_type": "code",
   "execution_count": 103,
   "id": "5679d88a",
   "metadata": {},
   "outputs": [],
   "source": [
    "#Screenshotter\n",
    "time.sleep(4)\n",
    "screenshot_test = pyautogui.screenshot()\n",
    "screenshot_test.save(\"opok.png\")"
   ]
  },
  {
   "cell_type": "code",
   "execution_count": 64,
   "id": "d3d2f25f",
   "metadata": {},
   "outputs": [
    {
     "name": "stdout",
     "output_type": "stream",
     "text": [
      "267 153\n"
     ]
    }
   ],
   "source": [
    "#X mark test\n",
    "time.sleep(3)\n",
    "a,b = pyautogui.locateCenterOnScreen(\"ex1.png\",confidence=.6)\n",
    "print(a,b)"
   ]
  },
  {
   "cell_type": "code",
   "execution_count": 34,
   "id": "8bd88254",
   "metadata": {},
   "outputs": [
    {
     "data": {
      "text/plain": [
       "'17 Birchwood Ln.'"
      ]
     },
     "execution_count": 34,
     "metadata": {},
     "output_type": "execute_result"
    }
   ],
   "source": [
    "#Address Fetcher test\n",
    "Tk().clipboard_get()"
   ]
  },
  {
   "cell_type": "code",
   "execution_count": 110,
   "id": "9a019fab",
   "metadata": {},
   "outputs": [],
   "source": [
    "#Move to tester\n",
    "time.sleep(3)\n",
    "pyautogui.moveTo(207,484)"
   ]
  },
  {
   "cell_type": "code",
   "execution_count": 73,
   "id": "ec065133",
   "metadata": {},
   "outputs": [],
   "source": [
    "policy_df = pd.read_csv(\"policies.csv\")"
   ]
  },
  {
   "cell_type": "code",
   "execution_count": 115,
   "id": "fc94e0db",
   "metadata": {},
   "outputs": [],
   "source": [
    "policy_short = policy_df.iloc[33:]\n",
    "#policy_short"
   ]
  },
  {
   "cell_type": "code",
   "execution_count": 111,
   "id": "19ac90c0",
   "metadata": {},
   "outputs": [
    {
     "ename": "KeyboardInterrupt",
     "evalue": "",
     "output_type": "error",
     "traceback": [
      "\u001b[1;31m---------------------------------------------------------------------------\u001b[0m",
      "\u001b[1;31mKeyboardInterrupt\u001b[0m                         Traceback (most recent call last)",
      "\u001b[1;32m<ipython-input-111-31771677c730>\u001b[0m in \u001b[0;36m<module>\u001b[1;34m\u001b[0m\n\u001b[0;32m     29\u001b[0m         \u001b[0mtime\u001b[0m\u001b[1;33m.\u001b[0m\u001b[0msleep\u001b[0m\u001b[1;33m(\u001b[0m\u001b[1;36m2\u001b[0m\u001b[1;33m)\u001b[0m\u001b[1;33m\u001b[0m\u001b[1;33m\u001b[0m\u001b[0m\n\u001b[0;32m     30\u001b[0m         \u001b[0mpyautogui\u001b[0m\u001b[1;33m.\u001b[0m\u001b[0mclick\u001b[0m\u001b[1;33m(\u001b[0m\u001b[1;36m97\u001b[0m\u001b[1;33m,\u001b[0m\u001b[1;36m652\u001b[0m\u001b[1;33m)\u001b[0m\u001b[1;31m#policy schedule A\u001b[0m\u001b[1;33m\u001b[0m\u001b[1;33m\u001b[0m\u001b[0m\n\u001b[1;32m---> 31\u001b[1;33m         \u001b[0mtime\u001b[0m\u001b[1;33m.\u001b[0m\u001b[0msleep\u001b[0m\u001b[1;33m(\u001b[0m\u001b[1;36m5\u001b[0m\u001b[1;33m)\u001b[0m\u001b[1;33m\u001b[0m\u001b[1;33m\u001b[0m\u001b[0m\n\u001b[0m\u001b[0;32m     32\u001b[0m         \u001b[0mdates\u001b[0m \u001b[1;33m=\u001b[0m \u001b[0mpyautogui\u001b[0m\u001b[1;33m.\u001b[0m\u001b[0mlocateOnScreen\u001b[0m\u001b[1;33m(\u001b[0m\u001b[1;34m\"none1.png\"\u001b[0m\u001b[1;33m,\u001b[0m\u001b[0mconfidence\u001b[0m\u001b[1;33m=\u001b[0m\u001b[1;36m.7\u001b[0m\u001b[1;33m)\u001b[0m\u001b[1;31m#ironic, if not none, it will be none\u001b[0m\u001b[1;33m\u001b[0m\u001b[1;33m\u001b[0m\u001b[0m\n\u001b[0;32m     33\u001b[0m         \u001b[1;32mif\u001b[0m \u001b[0mdates\u001b[0m \u001b[1;33m==\u001b[0m \u001b[1;32mNone\u001b[0m\u001b[1;33m:\u001b[0m\u001b[1;33m\u001b[0m\u001b[1;33m\u001b[0m\u001b[0m\n",
      "\u001b[1;31mKeyboardInterrupt\u001b[0m: "
     ]
    }
   ],
   "source": [
    "#Looping Version of code\n",
    "counter = 0\n",
    "pyautogui.click(x) #Minimize\n",
    "time.sleep(2)\n",
    "pyautogui.click(114,513) #Search box\n",
    "for index, row in policy_short.iterrows():\n",
    "    pyautogui.write(row[0])\n",
    "    time.sleep(1)\n",
    "    pyautogui.click(216,544)#Search Button\n",
    "    time.sleep(5)\n",
    "    pyautogui.click(200,795,clicks=2,interval=.1)#clicking order\n",
    "    pyautogui.moveTo(245,544)#somewhere else\n",
    "    time.sleep(20)\n",
    "    dialog_check = pyautogui.locateCenterOnScreen(\"opok1.png\",confidence=.7)\n",
    "    if dialog_check == None:\n",
    "        pass\n",
    "    else:\n",
    "        pyautogui.click(dialog_check[0],dialog_check[1])\n",
    "        time.sleep(2)\n",
    "    pyautogui.click(415,710)#Address box. Check if this is a sufficient failsafe.\n",
    "    pyautogui.hotkey(\"ctrl\",\"a\")\n",
    "    pyautogui.hotkey(\"ctrl\",\"c\")\n",
    "    time.sleep(1)\n",
    "    address = Tk().clipboard_get()\n",
    "    if address not in row[1]:\n",
    "        pass\n",
    "    else:\n",
    "        pyautogui.click(207,484)#title drop down\n",
    "        time.sleep(2)\n",
    "        pyautogui.click(97,652)#policy schedule A\n",
    "        time.sleep(5)\n",
    "        dates = pyautogui.locateOnScreen(\"none1.png\",confidence=.7)#ironic, if not none, it will be none\n",
    "        if dates == None:\n",
    "            pyautogui.click(98,77)#click on checklist\n",
    "            time.sleep(3)\n",
    "            pyautogui.moveTo(421,332)#go to window\n",
    "            time.sleep(1)\n",
    "            for i in range(1,50):\n",
    "                pyautogui.scroll(-150)\n",
    "                time.sleep(1)\n",
    "                req = pyautogui.locateCenterOnScreen(\"required1.png\",confidence=.7)#finding requirdes\n",
    "                if req == None:\n",
    "                    pass\n",
    "                else:\n",
    "                    pyautogui.click(req[0],req[1])#Clicking on requirement\n",
    "                    time.sleep(1)\n",
    "                    pyautogui.click(1036,538)#Clicking on drop down\n",
    "                    time.sleep(1)\n",
    "                    pyautogui.click(960,588)#Clicking on completed\n",
    "                    time.sleep(2)\n",
    "                    pyautogui.moveTo(421,332)#Going back to window\n",
    "            pyautogui.click(179,81)#click on requested\n",
    "            time.sleep(3)\n",
    "            pyautogui.moveTo(421,332)#go to window\n",
    "            time.sleep(1)\n",
    "            ##FIX THIS LOOP?\n",
    "            for i in range(1,50):\n",
    "                pyautogui.scroll(-150)\n",
    "                time.sleep(1)\n",
    "                req1 = pyautogui.locateCenterOnScreen(\"required1.png\",confidence=.7)#finding requirdes\n",
    "                if req1 == None:\n",
    "                    pass\n",
    "                else:\n",
    "                    pyautogui.click(req1[0],req1[1])#Clicking on requirement\n",
    "                    time.sleep(1)\n",
    "                    pyautogui.click(933,517)#Clicking on drop down\n",
    "                    time.sleep(1)\n",
    "                    pyautogui.click(850,589)#Clicking on completed\n",
    "                    time.sleep(2)\n",
    "                    pyautogui.moveTo(421,332)#Going back to window\n",
    "        else:\n",
    "            pass\n",
    "    time.sleep(2)\n",
    "    a,b = pyautogui.locateCenterOnScreen(\"ex1.png\",confidence=.6)\n",
    "    pyautogui.moveTo(a,b)\n",
    "    pyautogui.click()\n",
    "    time.sleep(2)\n",
    "    pyautogui.click(602,518)#saving changes\n",
    "    time.sleep(20)\n",
    "    pyautogui.click(761,512)#ignoring warnings\n",
    "    time.sleep(1)\n",
    "    pyautogui.click(114,513,clicks=3) #Search box\n",
    "    pyautogui.hotkey(\"ctrl\",\"a\")\n",
    "    time.sleep(1)\n",
    "    pyautogui.click(243,514)\n",
    "    time.sleep(2)\n",
    "    counter +=1"
   ]
  },
  {
   "cell_type": "code",
   "execution_count": 87,
   "id": "6a154e22",
   "metadata": {},
   "outputs": [],
   "source": [
    "time.sleep(5)\n",
    "pyautogui.click(114,513,clicks=3) #Search box\n",
    "pyautogui.hotkey(\"ctrl\",\"a\")\n",
    "time.sleep(1)\n",
    "pyautogui.click(243,514)"
   ]
  },
  {
   "cell_type": "code",
   "execution_count": 102,
   "id": "025fe0d2",
   "metadata": {},
   "outputs": [
    {
     "data": {
      "text/plain": [
       "537"
      ]
     },
     "execution_count": 102,
     "metadata": {},
     "output_type": "execute_result"
    }
   ],
   "source": [
    "counter"
   ]
  },
  {
   "cell_type": "code",
   "execution_count": null,
   "id": "085a876b",
   "metadata": {},
   "outputs": [],
   "source": []
  }
 ],
 "metadata": {
  "kernelspec": {
   "display_name": "Python 3",
   "language": "python",
   "name": "python3"
  },
  "language_info": {
   "codemirror_mode": {
    "name": "ipython",
    "version": 3
   },
   "file_extension": ".py",
   "mimetype": "text/x-python",
   "name": "python",
   "nbconvert_exporter": "python",
   "pygments_lexer": "ipython3",
   "version": "3.8.8"
  }
 },
 "nbformat": 4,
 "nbformat_minor": 5
}
