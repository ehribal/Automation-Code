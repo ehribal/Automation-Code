{
 "cells": [
  {
   "cell_type": "code",
   "execution_count": 1,
   "id": "e881b418",
   "metadata": {},
   "outputs": [],
   "source": [
    "import numpy as np\n",
    "import pandas as pd\n",
    "import time\n",
    "import pyautogui\n",
    "import cv2\n",
    "from tkinter import Tk"
   ]
  },
  {
   "cell_type": "code",
   "execution_count": 79,
   "id": "d8c2a24f",
   "metadata": {},
   "outputs": [
    {
     "data": {
      "text/plain": [
       "Point(x=809, y=164)"
      ]
     },
     "execution_count": 79,
     "metadata": {},
     "output_type": "execute_result"
    }
   ],
   "source": [
    "#Position Finder\n",
    "pyautogui.position()"
   ]
  },
  {
   "cell_type": "code",
   "execution_count": 54,
   "id": "18815e2c",
   "metadata": {},
   "outputs": [],
   "source": [
    "#Screenshotter\n",
    "time.sleep(4)\n",
    "screenshot_test = pyautogui.screenshot()\n",
    "screenshot_test.save(\"failed.png\")"
   ]
  },
  {
   "cell_type": "code",
   "execution_count": 83,
   "id": "576afec0",
   "metadata": {},
   "outputs": [
    {
     "ename": "KeyboardInterrupt",
     "evalue": "",
     "output_type": "error",
     "traceback": [
      "\u001b[1;31m---------------------------------------------------------------------------\u001b[0m",
      "\u001b[1;31mKeyboardInterrupt\u001b[0m                         Traceback (most recent call last)",
      "\u001b[1;32m<ipython-input-83-7ba967e303aa>\u001b[0m in \u001b[0;36m<module>\u001b[1;34m\u001b[0m\n\u001b[0;32m     40\u001b[0m     \u001b[0mtime\u001b[0m\u001b[1;33m.\u001b[0m\u001b[0msleep\u001b[0m\u001b[1;33m(\u001b[0m\u001b[1;36m1\u001b[0m\u001b[1;33m)\u001b[0m\u001b[1;33m\u001b[0m\u001b[1;33m\u001b[0m\u001b[0m\n\u001b[0;32m     41\u001b[0m     \u001b[0mpyautogui\u001b[0m\u001b[1;33m.\u001b[0m\u001b[0mhotkey\u001b[0m\u001b[1;33m(\u001b[0m\u001b[1;34m\"ctrl\"\u001b[0m\u001b[1;33m,\u001b[0m\u001b[1;34m\"a\"\u001b[0m\u001b[1;33m)\u001b[0m\u001b[1;33m\u001b[0m\u001b[1;33m\u001b[0m\u001b[0m\n\u001b[1;32m---> 42\u001b[1;33m     \u001b[0mtime\u001b[0m\u001b[1;33m.\u001b[0m\u001b[0msleep\u001b[0m\u001b[1;33m(\u001b[0m\u001b[1;36m10\u001b[0m\u001b[1;33m)\u001b[0m\u001b[1;33m\u001b[0m\u001b[1;33m\u001b[0m\u001b[0m\n\u001b[0m\u001b[0;32m     43\u001b[0m     \u001b[0mpyautogui\u001b[0m\u001b[1;33m.\u001b[0m\u001b[0mdragTo\u001b[0m\u001b[1;33m(\u001b[0m\u001b[1;36m868\u001b[0m\u001b[1;33m,\u001b[0m\u001b[1;36m614\u001b[0m\u001b[1;33m,\u001b[0m\u001b[1;36m3\u001b[0m\u001b[1;33m,\u001b[0m\u001b[0mbutton\u001b[0m\u001b[1;33m=\u001b[0m\u001b[1;34m\"left\"\u001b[0m\u001b[1;33m)\u001b[0m\u001b[1;31m#dragging files over\u001b[0m\u001b[1;33m\u001b[0m\u001b[1;33m\u001b[0m\u001b[0m\n\u001b[0;32m     44\u001b[0m     \u001b[0mdialog\u001b[0m \u001b[1;33m=\u001b[0m \u001b[1;36m0\u001b[0m\u001b[1;33m\u001b[0m\u001b[1;33m\u001b[0m\u001b[0m\n",
      "\u001b[1;31mKeyboardInterrupt\u001b[0m: "
     ]
    }
   ],
   "source": [
    "emaily = 363\n",
    "renamey = 441\n",
    "deletey = 534\n",
    "\n",
    "pyautogui.click(613,1006) #Opening Mail\n",
    "for i in range(1,10):\n",
    "    \n",
    "    time.sleep(1)\n",
    "    pyautogui.click(-1182,emaily)#click email\n",
    "    time.sleep(2)\n",
    "    pyautogui.click(-915,185)#open archives\n",
    "    time.sleep(5)\n",
    "    pyautogui.click(-1182,emaily,button=\"right\")#right click\n",
    "    time.sleep(1)\n",
    "    pyautogui.moveTo(-1128,renamey)\n",
    "    time.sleep(.5)\n",
    "    pyautogui.moveTo(-1130,renamey)\n",
    "    pyautogui.click()#rename button\n",
    "    time.sleep(1)\n",
    "    pyautogui.click(-1195,emaily,clicks=2)#selecting order\n",
    "    time.sleep(1)\n",
    "    pyautogui.hotkey(\"ctrl\",\"c\")\n",
    "    time.sleep(1)\n",
    "    pyautogui.click(663,1000)#opening chrome\n",
    "    time.sleep(1)\n",
    "    pyautogui.moveTo(617,401)#move to middle\n",
    "    time.sleep(1)\n",
    "    pyautogui.click(195,132)#clicking search bar\n",
    "    time.sleep(1)\n",
    "    pyautogui.write(Tk().clipboard_get())\n",
    "    time.sleep(1)\n",
    "    pyautogui.click(314,125)#clicking search button\n",
    "    time.sleep(5)\n",
    "    pyautogui.click(222,155)#clicking smartdocs\n",
    "    time.sleep(5)\n",
    "    a,b = pyautogui.locateCenterOnScreen(\"transmittals1.png\",confidence=.6)\n",
    "    pyautogui.click(a,b)\n",
    "    time.sleep(2)\n",
    "    pyautogui.click(-915,185)#click first\n",
    "    time.sleep(1)\n",
    "    pyautogui.hotkey(\"ctrl\",\"a\")\n",
    "    time.sleep(10)\n",
    "    pyautogui.dragTo(868,614,3,button=\"left\")#dragging files over\n",
    "    dialog = 0\n",
    "    while dialog == 0:\n",
    "        time.sleep(3)\n",
    "        fail = pyautogui.locateCenterOnScreen(\"failed1.png\",confidence=.6)\n",
    "        ok = pyautogui.locateCenterOnScreen(\"okbluenew1.png\",confidence=.6)\n",
    "        if ok == None and fail == None:\n",
    "            pass\n",
    "        elif ok != None:\n",
    "            pyautogui.click(817,165)\n",
    "            time.sleep(2)\n",
    "            pyautogui.click(-1182,emaily,button=\"right\")#right click\n",
    "            time.sleep(1)\n",
    "            pyautogui.click(-1100,deletey)#delete\n",
    "            time.sleep(1)\n",
    "            pyautogui.click(-675,560)#confirm\n",
    "            dialog += 1\n",
    "        elif fail != None:\n",
    "            pyautogui.click(817,165)\n",
    "            emaily += 25\n",
    "            renamey += 25\n",
    "            deletey += 25\n",
    "            dialog += 1\n",
    "    "
   ]
  },
  {
   "cell_type": "code",
   "execution_count": 16,
   "id": "4f82ca15",
   "metadata": {},
   "outputs": [],
   "source": [
    "pyautogui.click(663,1000)#opening chrome\n",
    "time.sleep(1)"
   ]
  },
  {
   "cell_type": "code",
   "execution_count": 22,
   "id": "b6c7d04d",
   "metadata": {},
   "outputs": [],
   "source": [
    "pyautogui.click(663,1000)#opening chrome\n",
    "time.sleep(1)\n",
    "pyautogui.moveTo(617,401)\n",
    "time.sleep(1)\n",
    "pyautogui.click(195,132)#clicking search\n",
    "time.sleep(1)\n",
    "pyautogui.write(Tk().clipboard_get())\n",
    "time.sleep(1)"
   ]
  },
  {
   "cell_type": "code",
   "execution_count": 69,
   "id": "25dc782c",
   "metadata": {},
   "outputs": [
    {
     "name": "stdout",
     "output_type": "stream",
     "text": [
      "<class 'NoneType'>\n"
     ]
    }
   ],
   "source": [
    "time.sleep(3)\n",
    "faile = pyautogui.locateCenterOnScreen(\"okbluenew1.png\",confidence=.6)\n",
    "print(type(faile))"
   ]
  },
  {
   "cell_type": "code",
   "execution_count": 40,
   "id": "f73efb43",
   "metadata": {},
   "outputs": [],
   "source": [
    "pyautogui.click(1160,16) #Minimize\n",
    "pyautogui.click(-915,185)#click first\n",
    "time.sleep(1)\n",
    "pyautogui.hotkey(\"ctrl\",\"a\")\n",
    "time.sleep(5)\n",
    "pyautogui.dragTo(868,614,3,button=\"left\")"
   ]
  },
  {
   "cell_type": "code",
   "execution_count": 71,
   "id": "bb44fcde",
   "metadata": {},
   "outputs": [
    {
     "data": {
      "text/plain": [
       "False"
      ]
     },
     "execution_count": 71,
     "metadata": {},
     "output_type": "execute_result"
    }
   ],
   "source": [
    "faile != None"
   ]
  },
  {
   "cell_type": "code",
   "execution_count": 62,
   "id": "35b88322",
   "metadata": {},
   "outputs": [
    {
     "ename": "SyntaxError",
     "evalue": "invalid syntax (<ipython-input-62-1105533eb691>, line 1)",
     "output_type": "error",
     "traceback": [
      "\u001b[1;36m  File \u001b[1;32m\"<ipython-input-62-1105533eb691>\"\u001b[1;36m, line \u001b[1;32m1\u001b[0m\n\u001b[1;33m    faild[0] == <class 'numpy.int64'>\u001b[0m\n\u001b[1;37m                ^\u001b[0m\n\u001b[1;31mSyntaxError\u001b[0m\u001b[1;31m:\u001b[0m invalid syntax\n"
     ]
    }
   ],
   "source": [
    "faild[0] == <class 'numpy.int64'>"
   ]
  },
  {
   "cell_type": "code",
   "execution_count": null,
   "id": "f625140e",
   "metadata": {},
   "outputs": [],
   "source": []
  }
 ],
 "metadata": {
  "kernelspec": {
   "display_name": "Python 3",
   "language": "python",
   "name": "python3"
  },
  "language_info": {
   "codemirror_mode": {
    "name": "ipython",
    "version": 3
   },
   "file_extension": ".py",
   "mimetype": "text/x-python",
   "name": "python",
   "nbconvert_exporter": "python",
   "pygments_lexer": "ipython3",
   "version": "3.8.8"
  }
 },
 "nbformat": 4,
 "nbformat_minor": 5
}
