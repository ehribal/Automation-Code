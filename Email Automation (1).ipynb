{
 "cells": [
  {
   "cell_type": "code",
   "execution_count": 1,
   "id": "2b5b37e5",
   "metadata": {},
   "outputs": [],
   "source": [
    "import numpy as np\n",
    "import pandas as pd\n",
    "import time\n",
    "import pyautogui\n",
    "import cv2\n",
    "from tkinter import Tk"
   ]
  },
  {
   "cell_type": "code",
   "execution_count": 79,
   "id": "4f0f8e47",
   "metadata": {},
   "outputs": [
    {
     "data": {
      "text/plain": [
       "Point(x=809, y=164)"
      ]
     },
     "execution_count": 79,
     "metadata": {},
     "output_type": "execute_result"
    }
   ],
   "source": [
    "#Position Finder\n",
    "pyautogui.position()"
   ]
  },
  {
   "cell_type": "code",
   "execution_count": 54,
   "id": "fe8aed01",
   "metadata": {},
   "outputs": [],
   "source": [
    "#Screenshotter\n",
    "time.sleep(4)\n",
    "screenshot_test = pyautogui.screenshot()\n",
    "screenshot_test.save(\"failed.png\")"
   ]
  },
  {
   "cell_type": "code",
   "execution_count": 103,
   "id": "ccbdc1b5",
   "metadata": {},
   "outputs": [],
   "source": [
    "emaily = 363\n",
    "renamey = 441\n",
    "deletey = 534\n",
    "\n",
    "order_old = \"\"\n",
    "\n",
    "pyautogui.click(613,1006) #Opening Mail\n",
    "for i in range(0,82):\n",
    "    \n",
    "    time.sleep(1)\n",
    "    pyautogui.click(-1182,emaily)#click email\n",
    "    time.sleep(2)\n",
    "    pyautogui.click(-915,185)#open archives\n",
    "    time.sleep(5)\n",
    "    pyautogui.click(-1182,emaily,button=\"right\")#right click\n",
    "    time.sleep(1)\n",
    "    pyautogui.moveTo(-1128,renamey)\n",
    "    time.sleep(.5)\n",
    "    pyautogui.moveTo(-1130,renamey)\n",
    "    pyautogui.click()#rename button\n",
    "    time.sleep(1)\n",
    "    pyautogui.click(-1195,emaily,clicks=2)#selecting order\n",
    "    time.sleep(1)\n",
    "    pyautogui.hotkey(\"ctrl\",\"c\")\n",
    "    time.sleep(1)\n",
    "    pyautogui.click(663,1000)#opening chrome\n",
    "    time.sleep(1)\n",
    "    pyautogui.moveTo(617,401)#move to middle\n",
    "    time.sleep(1)\n",
    "    pyautogui.click(195,132)#clicking search bar\n",
    "    time.sleep(1)\n",
    "    pyautogui.write(Tk().clipboard_get())#entering order no.\n",
    "    time.sleep(1)\n",
    "    if Tk().clipboard_get() == order_old:\n",
    "        break\n",
    "    else:\n",
    "        order_old = Tk().clipboard_get()\n",
    "    pyautogui.click(314,125)#clicking search button\n",
    "    time.sleep(5)\n",
    "    pyautogui.click(222,155)#clicking smartdocs\n",
    "    time.sleep(5)\n",
    "    a,b = pyautogui.locateCenterOnScreen(\"transmittals1.png\",confidence=.6)\n",
    "    pyautogui.click(a,b)\n",
    "    time.sleep(2)\n",
    "    pyautogui.click(-915,185)#click first\n",
    "    time.sleep(1)\n",
    "    pyautogui.hotkey(\"ctrl\",\"a\")\n",
    "    time.sleep(10)\n",
    "    pyautogui.dragTo(868,614,3,button=\"left\")#dragging files over\n",
    "    dialog = 0\n",
    "    while dialog == 0:\n",
    "        time.sleep(3)\n",
    "        fail = pyautogui.locateCenterOnScreen(\"failed1.png\",confidence=.6)\n",
    "        ok = pyautogui.locateCenterOnScreen(\"okbluenew1.png\",confidence=.6)\n",
    "        if ok == None and fail == None:\n",
    "            pass\n",
    "        elif ok != None:\n",
    "            time.sleep(1)\n",
    "            pyautogui.click(817,165)\n",
    "            time.sleep(2)\n",
    "            pyautogui.click(-1182,emaily,button=\"right\")#right click\n",
    "            time.sleep(1)\n",
    "            pyautogui.moveTo(-1100,deletey)#delete\n",
    "            time.sleep(1)\n",
    "            pyautogui.moveTo(-1102,deletey)\n",
    "            pyautogui.click()\n",
    "            time.sleep(1)\n",
    "            pyautogui.click(-675,560)#confirm\n",
    "            dialog += 1\n",
    "        elif fail != None:\n",
    "            time.sleep(1)\n",
    "            pyautogui.click(817,165)\n",
    "            emaily += 25\n",
    "            renamey += 25\n",
    "            deletey += 23\n",
    "            dialog += 1\n",
    "    "
   ]
  },
  {
   "cell_type": "code",
   "execution_count": 16,
   "id": "2fd76089",
   "metadata": {},
   "outputs": [],
   "source": [
    "pyautogui.click(663,1000)#opening chrome\n",
    "time.sleep(1)"
   ]
  },
  {
   "cell_type": "code",
   "execution_count": 22,
   "id": "81e0ff76",
   "metadata": {},
   "outputs": [],
   "source": [
    "pyautogui.click(663,1000)#opening chrome\n",
    "time.sleep(1)\n",
    "pyautogui.moveTo(617,401)\n",
    "time.sleep(1)\n",
    "pyautogui.click(195,132)#clicking search\n",
    "time.sleep(1)\n",
    "pyautogui.write(Tk().clipboard_get())\n",
    "time.sleep(1)"
   ]
  },
  {
   "cell_type": "code",
   "execution_count": 69,
   "id": "d365bfd5",
   "metadata": {},
   "outputs": [
    {
     "name": "stdout",
     "output_type": "stream",
     "text": [
      "<class 'NoneType'>\n"
     ]
    }
   ],
   "source": [
    "time.sleep(3)\n",
    "faile = pyautogui.locateCenterOnScreen(\"okbluenew1.png\",confidence=.6)\n",
    "print(type(faile))"
   ]
  },
  {
   "cell_type": "code",
   "execution_count": 40,
   "id": "52f51061",
   "metadata": {},
   "outputs": [],
   "source": [
    "pyautogui.click(1160,16) #Minimize\n",
    "pyautogui.click(-915,185)#click first\n",
    "time.sleep(1)\n",
    "pyautogui.hotkey(\"ctrl\",\"a\")\n",
    "time.sleep(5)\n",
    "pyautogui.dragTo(868,614,3,button=\"left\")"
   ]
  },
  {
   "cell_type": "code",
   "execution_count": 71,
   "id": "852090a3",
   "metadata": {},
   "outputs": [
    {
     "data": {
      "text/plain": [
       "False"
      ]
     },
     "execution_count": 71,
     "metadata": {},
     "output_type": "execute_result"
    }
   ],
   "source": [
    "faile != None"
   ]
  },
  {
   "cell_type": "code",
   "execution_count": 105,
   "id": "3f065af4",
   "metadata": {},
   "outputs": [],
   "source": [
    "pyautogui.moveTo(-1182,363)"
   ]
  },
  {
   "cell_type": "code",
   "execution_count": null,
   "id": "b0b7340c",
   "metadata": {},
   "outputs": [],
   "source": []
  },
  {
   "cell_type": "code",
   "execution_count": null,
   "id": "06530530",
   "metadata": {},
   "outputs": [],
   "source": []
  }
 ],
 "metadata": {
  "kernelspec": {
   "display_name": "Python 3",
   "language": "python",
   "name": "python3"
  },
  "language_info": {
   "codemirror_mode": {
    "name": "ipython",
    "version": 3
   },
   "file_extension": ".py",
   "mimetype": "text/x-python",
   "name": "python",
   "nbconvert_exporter": "python",
   "pygments_lexer": "ipython3",
   "version": "3.8.8"
  }
 },
 "nbformat": 4,
 "nbformat_minor": 5
}
